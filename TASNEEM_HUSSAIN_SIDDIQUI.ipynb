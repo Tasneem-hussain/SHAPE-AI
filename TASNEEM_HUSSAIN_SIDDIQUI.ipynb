{
  "nbformat": 4,
  "nbformat_minor": 0,
  "metadata": {
    "colab": {
      "name": "TASNEEM_HUSSAIN_SIDDIQUI.ipynb",
      "provenance": [],
      "collapsed_sections": [],
      "authorship_tag": "ABX9TyNp5lmTEVCYe3qJSvUbXTXz",
      "include_colab_link": true
    },
    "kernelspec": {
      "display_name": "Python 3",
      "name": "python3"
    }
  },
  "cells": [
    {
      "cell_type": "markdown",
      "metadata": {
        "id": "view-in-github",
        "colab_type": "text"
      },
      "source": [
        "<a href=\"https://colab.research.google.com/github/Tasneem-hussain/SHAPE-AI/blob/main/TASNEEM_HUSSAIN_SIDDIQUI.ipynb\" target=\"_parent\"><img src=\"https://colab.research.google.com/assets/colab-badge.svg\" alt=\"Open In Colab\"/></a>"
      ]
    },
    {
      "cell_type": "markdown",
      "metadata": {
        "id": "93vGwLzm1WIK"
      },
      "source": [
        "# **IMPORTING LIBRARIES **\r\n",
        " ALONG WITH ALIAS"
      ]
    },
    {
      "cell_type": "code",
      "metadata": {
        "id": "EzgvT6P54cPd"
      },
      "source": [
        "import pandas as pd\r\n",
        "import numpy as np\r\n"
      ],
      "execution_count": 2,
      "outputs": []
    },
    {
      "cell_type": "markdown",
      "metadata": {
        "id": "OTMNEavz1ltJ"
      },
      "source": [
        "# **EXPLORATION OF IRIS DATASET DATA **"
      ]
    },
    {
      "cell_type": "markdown",
      "metadata": {
        "id": "vxcHlKDN3o6P"
      },
      "source": [
        "LOADING IRIS DATASET"
      ]
    },
    {
      "cell_type": "code",
      "metadata": {
        "id": "qnR4yo9LDvsZ"
      },
      "source": [
        "from sklearn.datasets import load_iris\r\n",
        "iris_dataset=load_iris()"
      ],
      "execution_count": 3,
      "outputs": []
    },
    {
      "cell_type": "markdown",
      "metadata": {
        "id": "j9AL9iCU3YvV"
      },
      "source": [
        "SHOWING KEY VALUES OF IRIS DATASET"
      ]
    },
    {
      "cell_type": "code",
      "metadata": {
        "colab": {
          "base_uri": "https://localhost:8080/"
        },
        "id": "MMn4ZeyrcAtS",
        "outputId": "8fad3c15-8ce9-4f0c-8360-2b304a433e8d"
      },
      "source": [
        "print(\"keys of iris_dataset: \\n{}\".format(iris_dataset.keys()))\r\n"
      ],
      "execution_count": 4,
      "outputs": [
        {
          "output_type": "stream",
          "text": [
            "keys of iris_dataset: \n",
            "dict_keys(['data', 'target', 'target_names', 'DESCR', 'feature_names', 'filename'])\n"
          ],
          "name": "stdout"
        }
      ]
    },
    {
      "cell_type": "markdown",
      "metadata": {
        "id": "w6DBkVEP3vuA"
      },
      "source": [
        "DESCRIPTION OF IRIS DATASET"
      ]
    },
    {
      "cell_type": "code",
      "metadata": {
        "id": "CBvjgz_leVT_",
        "colab": {
          "base_uri": "https://localhost:8080/"
        },
        "outputId": "1ae1fb21-bde2-48f0-cc5a-51f5f56c6d2b"
      },
      "source": [
        "print(iris_dataset['DESCR'][:193]+\"\\n...\")\r\n"
      ],
      "execution_count": 5,
      "outputs": [
        {
          "output_type": "stream",
          "text": [
            ".. _iris_dataset:\n",
            "\n",
            "Iris plants dataset\n",
            "--------------------\n",
            "\n",
            "**Data Set Characteristics:**\n",
            "\n",
            "    :Number of Instances: 150 (50 in each of three classes)\n",
            "    :Number of Attributes: 4 numeric, pre\n",
            "...\n"
          ],
          "name": "stdout"
        }
      ]
    },
    {
      "cell_type": "markdown",
      "metadata": {
        "id": "tQo_h9K34tqf"
      },
      "source": [
        "# **SHOWING FLOWER TYPE AS TARGET NAME **"
      ]
    },
    {
      "cell_type": "code",
      "metadata": {
        "colab": {
          "base_uri": "https://localhost:8080/"
        },
        "id": "mOrZXFZOfh4R",
        "outputId": "650f935a-8294-4da5-d75a-74a3edc8aa8e"
      },
      "source": [
        "print(\"Target names: {}\".format(iris_dataset['target_names']))"
      ],
      "execution_count": 6,
      "outputs": [
        {
          "output_type": "stream",
          "text": [
            "Target names: ['setosa' 'versicolor' 'virginica']\n"
          ],
          "name": "stdout"
        }
      ]
    },
    {
      "cell_type": "markdown",
      "metadata": {
        "id": "i05_6-Ou55vg"
      },
      "source": [
        "# **SHOWING COLUMN NAMES AS FEATURE NAME **"
      ]
    },
    {
      "cell_type": "code",
      "metadata": {
        "colab": {
          "base_uri": "https://localhost:8080/"
        },
        "id": "G6UoZ5bm5NQ2",
        "outputId": "7112d096-ad0a-404b-da04-9a4454dcae10"
      },
      "source": [
        "print(\"Feature names:\\n {}\".format(iris_dataset['feature_names']))"
      ],
      "execution_count": 7,
      "outputs": [
        {
          "output_type": "stream",
          "text": [
            "Feature names:\n",
            " ['sepal length (cm)', 'sepal width (cm)', 'petal length (cm)', 'petal width (cm)']\n"
          ],
          "name": "stdout"
        }
      ]
    },
    {
      "cell_type": "markdown",
      "metadata": {
        "id": "3vUe1s3-6bSm"
      },
      "source": [
        "# **SHOWING TYPE OF DATA**"
      ]
    },
    {
      "cell_type": "code",
      "metadata": {
        "colab": {
          "base_uri": "https://localhost:8080/"
        },
        "id": "aO69o5am5MkI",
        "outputId": "6f6305ff-ee67-4951-b0b4-e373cba55094"
      },
      "source": [
        "print(\"Type of data: {}\".format(type(iris_dataset['data'])))"
      ],
      "execution_count": 8,
      "outputs": [
        {
          "output_type": "stream",
          "text": [
            "Type of data: <class 'numpy.ndarray'>\n"
          ],
          "name": "stdout"
        }
      ]
    },
    {
      "cell_type": "markdown",
      "metadata": {
        "id": "N-pT4Spb7D_y"
      },
      "source": [
        "**SHOWING SHAPE OF DATA**"
      ]
    },
    {
      "cell_type": "code",
      "metadata": {
        "colab": {
          "base_uri": "https://localhost:8080/"
        },
        "id": "taYGT0eY6iZ5",
        "outputId": "7bd97f96-8743-4e99-ed93-2c11a1ac1c2c"
      },
      "source": [
        "print(\"Shape of data: {}\".format(iris_dataset['data'].shape))"
      ],
      "execution_count": 9,
      "outputs": [
        {
          "output_type": "stream",
          "text": [
            "Shape of data: (150, 4)\n"
          ],
          "name": "stdout"
        }
      ]
    },
    {
      "cell_type": "markdown",
      "metadata": {
        "id": "VofUKSrE7oPL"
      },
      "source": [
        "**FIRST FIVE ROWS OF DATA**"
      ]
    },
    {
      "cell_type": "code",
      "metadata": {
        "colab": {
          "base_uri": "https://localhost:8080/"
        },
        "id": "K9cM-4nS7Qpd",
        "outputId": "ce54ad6c-dfca-4df8-8ed0-665af7ef4d81"
      },
      "source": [
        "print(\"First five cooumn of data: {}\".format(iris_dataset['data'][:5]))"
      ],
      "execution_count": 10,
      "outputs": [
        {
          "output_type": "stream",
          "text": [
            "First five cooumn of data: [[5.1 3.5 1.4 0.2]\n",
            " [4.9 3.  1.4 0.2]\n",
            " [4.7 3.2 1.3 0.2]\n",
            " [4.6 3.1 1.5 0.2]\n",
            " [5.  3.6 1.4 0.2]]\n"
          ],
          "name": "stdout"
        }
      ]
    },
    {
      "cell_type": "markdown",
      "metadata": {
        "id": "APKf3Rt98auI"
      },
      "source": [
        "**TYPE OF TARGET**"
      ]
    },
    {
      "cell_type": "code",
      "metadata": {
        "colab": {
          "base_uri": "https://localhost:8080/"
        },
        "id": "hsmMDV598MuL",
        "outputId": "255b70ae-9d7d-4ceb-cf06-60ba46dccefc"
      },
      "source": [
        "print(\"Type of target: {}\".format(type(iris_dataset['target'])))"
      ],
      "execution_count": 11,
      "outputs": [
        {
          "output_type": "stream",
          "text": [
            "Type of target: <class 'numpy.ndarray'>\n"
          ],
          "name": "stdout"
        }
      ]
    },
    {
      "cell_type": "markdown",
      "metadata": {
        "id": "m4oFtpRM8fae"
      },
      "source": [
        "**SHAPE OF TARGET**"
      ]
    },
    {
      "cell_type": "code",
      "metadata": {
        "colab": {
          "base_uri": "https://localhost:8080/"
        },
        "id": "4TSumQZP8jvW",
        "outputId": "e2c1e7e1-f57c-4969-9dba-76fe801e2285"
      },
      "source": [
        "print(\"Shape of target {}\".format(iris_dataset['target'].shape))"
      ],
      "execution_count": 12,
      "outputs": [
        {
          "output_type": "stream",
          "text": [
            "Shape of target (150,)\n"
          ],
          "name": "stdout"
        }
      ]
    },
    {
      "cell_type": "markdown",
      "metadata": {
        "id": "yZ-pVd_m8-41"
      },
      "source": [
        "# **TARGET**\r\n",
        "0 setosa\r\n",
        "\r\n",
        "---\r\n",
        "\r\n",
        "\r\n",
        "1 vesicolor\r\n",
        "\r\n",
        "---\r\n",
        "\r\n",
        "\r\n",
        "2 verginica\r\n",
        "\r\n",
        "---\r\n",
        "\r\n",
        "\r\n"
      ]
    },
    {
      "cell_type": "code",
      "metadata": {
        "colab": {
          "base_uri": "https://localhost:8080/"
        },
        "id": "bI8XjgR38_2z",
        "outputId": "865235c1-1a09-4b0e-f89a-885b8d4a26b6"
      },
      "source": [
        "print(\"Target {}\".format(iris_dataset['target']))"
      ],
      "execution_count": 13,
      "outputs": [
        {
          "output_type": "stream",
          "text": [
            "Target [0 0 0 0 0 0 0 0 0 0 0 0 0 0 0 0 0 0 0 0 0 0 0 0 0 0 0 0 0 0 0 0 0 0 0 0 0\n",
            " 0 0 0 0 0 0 0 0 0 0 0 0 0 1 1 1 1 1 1 1 1 1 1 1 1 1 1 1 1 1 1 1 1 1 1 1 1\n",
            " 1 1 1 1 1 1 1 1 1 1 1 1 1 1 1 1 1 1 1 1 1 1 1 1 1 1 2 2 2 2 2 2 2 2 2 2 2\n",
            " 2 2 2 2 2 2 2 2 2 2 2 2 2 2 2 2 2 2 2 2 2 2 2 2 2 2 2 2 2 2 2 2 2 2 2 2 2\n",
            " 2 2]\n"
          ],
          "name": "stdout"
        }
      ]
    },
    {
      "cell_type": "markdown",
      "metadata": {
        "id": "Cbm7g9ONzxpT"
      },
      "source": [
        ""
      ]
    },
    {
      "cell_type": "markdown",
      "metadata": {
        "id": "ECYIcO5-zqWt"
      },
      "source": [
        "# **IMPORTING TRAIN TEST SPLIT**"
      ]
    },
    {
      "cell_type": "code",
      "metadata": {
        "id": "u_l3AQXz49qe"
      },
      "source": [
        "from sklearn.model_selection import train_test_split\r\n",
        "X_train, X_test, y_train, y_test = train_test_split(\r\n",
        "iris_dataset['data'], iris_dataset['target'], random_state=0)"
      ],
      "execution_count": 22,
      "outputs": []
    },
    {
      "cell_type": "markdown",
      "metadata": {
        "id": "4xvoJWZPz293"
      },
      "source": [
        "# **DISPLAY SHAPE OF TRAIN TEST SPLIT**"
      ]
    },
    {
      "cell_type": "code",
      "metadata": {
        "colab": {
          "base_uri": "https://localhost:8080/"
        },
        "id": "hDXKiK13EzP7",
        "outputId": "dbc3df49-82d0-4ebc-97ad-5b62fb2cadc7"
      },
      "source": [
        "print(\"X_train shape: {}\".format(X_train.shape))\r\n",
        "print(\"Y_train shape: {}\".format(y_train.shape))\r\n",
        "print(\"X_test shape: {}\".format(X_test.shape))\r\n",
        "print(\"Y_test shape: {}\".format(y_test.shape))"
      ],
      "execution_count": 23,
      "outputs": [
        {
          "output_type": "stream",
          "text": [
            "X_train shape: (112, 4)\n",
            "Y_train shape: (112,)\n",
            "X_test shape: (38, 4)\n",
            "Y_test shape: (38,)\n"
          ],
          "name": "stdout"
        }
      ]
    },
    {
      "cell_type": "markdown",
      "metadata": {
        "id": "H0IqmTz3JidA"
      },
      "source": [
        "# **K NEAREST VALUE**\r\n",
        "\r\n",
        "---\r\n",
        "\r\n"
      ]
    },
    {
      "cell_type": "markdown",
      "metadata": {
        "id": "mPc1Za6AJwbk"
      },
      "source": [
        "**IMPORTING K NEIGHBOUR CLASSIFIER**\r\n",
        "\r\n"
      ]
    },
    {
      "cell_type": "code",
      "metadata": {
        "id": "fPKH4XjqFwlN"
      },
      "source": [
        "from sklearn.neighbors import KNeighborsClassifier\r\n",
        "knn = KNeighborsClassifier(n_neighbors=1)"
      ],
      "execution_count": 28,
      "outputs": []
    },
    {
      "cell_type": "markdown",
      "metadata": {
        "id": "S-7FjYJqJ_OJ"
      },
      "source": [
        "**DESCRIPTION OF K NEIGHOR CLASSIFIER**"
      ]
    },
    {
      "cell_type": "code",
      "metadata": {
        "colab": {
          "base_uri": "https://localhost:8080/"
        },
        "id": "JFZFZZaJNFn5",
        "outputId": "0ba3117e-dec7-4bca-cecf-1455567ce495"
      },
      "source": [
        "knn.fit(X_train, y_train)\r\n"
      ],
      "execution_count": 29,
      "outputs": [
        {
          "output_type": "execute_result",
          "data": {
            "text/plain": [
              "KNeighborsClassifier(algorithm='auto', leaf_size=30, metric='minkowski',\n",
              "                     metric_params=None, n_jobs=None, n_neighbors=1, p=2,\n",
              "                     weights='uniform')"
            ]
          },
          "metadata": {
            "tags": []
          },
          "execution_count": 29
        }
      ]
    },
    {
      "cell_type": "markdown",
      "metadata": {
        "id": "ckfw-I72KK83"
      },
      "source": [
        "***ADDING ANOTHER ROW ***"
      ]
    },
    {
      "cell_type": "code",
      "metadata": {
        "colab": {
          "base_uri": "https://localhost:8080/"
        },
        "id": "oK7OH-BROYBP",
        "outputId": "f88539cf-8bd3-4cec-9404-04d6fc9006e3"
      },
      "source": [
        "X_new = np.array([[5,2.9,1,0.2]])\r\n",
        "print(\"X_new.shape: {}\".format(X_new.shape))\r\n"
      ],
      "execution_count": 30,
      "outputs": [
        {
          "output_type": "stream",
          "text": [
            "X_new.shape: (1, 4)\n"
          ],
          "name": "stdout"
        }
      ]
    },
    {
      "cell_type": "markdown",
      "metadata": {
        "id": "X9V728e2KSSF"
      },
      "source": [
        "***PREDICION OF TARGET AND TARGET NAME ***"
      ]
    },
    {
      "cell_type": "code",
      "metadata": {
        "colab": {
          "base_uri": "https://localhost:8080/"
        },
        "id": "XUKJKB-CqfZc",
        "outputId": "86d3569b-e9f2-44d5-b569-cc4334cc12e6"
      },
      "source": [
        "prediction = knn.predict(X_new)\r\n",
        "print(\"Prediction: {}\".format(prediction))\r\n",
        "print(\"Predicted target name: {}\".format(iris_dataset['target_names'][prediction]))"
      ],
      "execution_count": 31,
      "outputs": [
        {
          "output_type": "stream",
          "text": [
            "Prediction: [0]\n",
            "Predicted target name: ['setosa']\n"
          ],
          "name": "stdout"
        }
      ]
    },
    {
      "cell_type": "code",
      "metadata": {
        "colab": {
          "base_uri": "https://localhost:8080/"
        },
        "id": "PZ_vptOmrneO",
        "outputId": "a4db447a-18ed-4204-f735-75abdbf6e538"
      },
      "source": [
        "y_pred = knn.predict(X_test)\r\n",
        "print(\"Test set prediction:\\n{}\".format(y_pred))"
      ],
      "execution_count": 32,
      "outputs": [
        {
          "output_type": "stream",
          "text": [
            "Test set prediction:\n",
            "[2 1 0 2 0 2 0 1 1 1 2 1 1 1 1 0 1 1 0 0 2 1 0 0 2 0 0 1 1 0 2 1 0 2 2 1 0\n",
            " 2]\n"
          ],
          "name": "stdout"
        }
      ]
    },
    {
      "cell_type": "markdown",
      "metadata": {
        "id": "3R_hafSNKjwa"
      },
      "source": [
        "# **VERIFICATION AD CONFIRMATION OF PREDICTION**\r\n",
        "\r\n",
        "---\r\n",
        "\r\n"
      ]
    },
    {
      "cell_type": "code",
      "metadata": {
        "colab": {
          "base_uri": "https://localhost:8080/"
        },
        "id": "d47-cB7PrnLw",
        "outputId": "b6e8c3a1-5e4e-4cd9-ed19-af954b0b9245"
      },
      "source": [
        "print(\"Test set score: {}\".format(np.mean(y_pred==y_test)))"
      ],
      "execution_count": 33,
      "outputs": [
        {
          "output_type": "stream",
          "text": [
            "Test set score: 0.9736842105263158\n"
          ],
          "name": "stdout"
        }
      ]
    },
    {
      "cell_type": "code",
      "metadata": {
        "id": "A0QCFWA_Mmmq"
      },
      "source": [
        ""
      ],
      "execution_count": null,
      "outputs": []
    }
  ]
}